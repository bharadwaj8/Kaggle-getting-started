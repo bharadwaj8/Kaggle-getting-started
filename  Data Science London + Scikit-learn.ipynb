{
 "cells": [
  {
   "cell_type": "code",
   "execution_count": 90,
   "metadata": {},
   "outputs": [
    {
     "name": "stderr",
     "output_type": "stream",
     "text": [
      "C:\\ProgramData\\Anaconda3\\lib\\site-packages\\ipykernel_launcher.py:24: DataConversionWarning: A column-vector y was passed when a 1d array was expected. Please change the shape of y to (n_samples, ), for example using ravel().\n"
     ]
    },
    {
     "data": {
      "text/plain": [
       "0.92"
      ]
     },
     "execution_count": 90,
     "metadata": {},
     "output_type": "execute_result"
    }
   ],
   "source": [
    "import pandas as pd\n",
    "import numpy as np\n",
    "from sklearn.neighbors import KNeighborsClassifier\n",
    "from sklearn.metrics import accuracy_score\n",
    "from sklearn.model_selection import train_test_split\n",
    "\n",
    "#dummy=np.ones(40)\n",
    "Xtrain = pd.read_csv('train.csv',header=None)\n",
    "Xlabel = pd.read_csv('trainLabels.csv',header=None)\n",
    "Ytest = pd.read_csv('test.csv',header=None)\n",
    "#for i in range(train.values.size)\n",
    "#x_train = Xtrain.values.tolist()\n",
    "#x_label= Xlabel.values.tolist()\n",
    "\n",
    "\n",
    "\n",
    "\n",
    "#x_pred=clf.predict(Xtrain.values.tolist())\n",
    "#pred\n",
    "\n",
    "x_train,x_test,y_train,y_test=train_test_split(Xtrain,Xlabel,test_size=0.4)\n",
    "clf=KNeighborsClassifier()\n",
    "\n",
    "clf.fit(x_train,y_train)\n",
    "\n",
    "pred=clf.predict(Ytest.values.tolist())\n",
    "\n",
    "acc=clf.score(x_test,y_test)\n",
    "\n",
    "\n",
    "list=[]\n",
    "for i in range(1,pred.size+1):\n",
    "    list.append(i)\n",
    "df=pd.DataFrame({'Id':list})\n",
    "df['Solution']=pred\n",
    "#pred.size\n",
    "acc\n",
    "#df\n",
    "#Xtrain.head()\n",
    "#pred.tolist()"
   ]
  },
  {
   "cell_type": "code",
   "execution_count": null,
   "metadata": {},
   "outputs": [],
   "source": []
  }
 ],
 "metadata": {
  "kernelspec": {
   "display_name": "Python 3",
   "language": "python",
   "name": "python3"
  },
  "language_info": {
   "codemirror_mode": {
    "name": "ipython",
    "version": 3
   },
   "file_extension": ".py",
   "mimetype": "text/x-python",
   "name": "python",
   "nbconvert_exporter": "python",
   "pygments_lexer": "ipython3",
   "version": "3.7.1"
  }
 },
 "nbformat": 4,
 "nbformat_minor": 2
}
